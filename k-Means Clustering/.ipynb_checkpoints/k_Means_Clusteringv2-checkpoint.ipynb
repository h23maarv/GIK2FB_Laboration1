{
 "cells": [
  {
   "cell_type": "code",
   "execution_count": null,
   "id": "cddde3e0-c099-4db3-bd1c-4ecc6a6b8ab9",
   "metadata": {
    "colab": {
     "base_uri": "https://localhost:8080/"
    },
    "id": "cddde3e0-c099-4db3-bd1c-4ecc6a6b8ab9",
    "outputId": "aae312de-4525-4f2a-a670-4a991ce62f94"
   },
   "outputs": [],
   "source": [
    "# Importera os pga felmeddelanden\n",
    "import os\n",
    "os.environ[\"OMP_NUM_THREADS\"] = \"1\"\n",
    "\n",
    "# Importera nödvändiga bibliotek\n",
    "import pandas as pd\n",
    "import numpy as np\n",
    "import matplotlib.pyplot as plt\n",
    "import seaborn as sns\n",
    "from sklearn.cluster import KMeans\n",
    "from sklearn.preprocessing import StandardScaler\n",
    "\n",
    "# Läs in datasetet från en CSV-fil\n",
    "file_path = \"customerdata4.csv\"\n",
    "data = pd.read_csv(file_path)\n",
    "\n",
    "# Visa de första raderna av data och statistisk sammanfattning\n",
    "print(data.head())  # Visa första 5 raderna för att förstå strukturen\n",
    "print(data.describe())  # Beskriv data: min, max, medelvärde, std, etc."
   ]
  },
  {
   "cell_type": "code",
   "execution_count": null,
   "id": "93f21212-7ea6-4ba9-a954-63b941671638",
   "metadata": {
    "colab": {
     "base_uri": "https://localhost:8080/",
     "height": 472
    },
    "id": "93f21212-7ea6-4ba9-a954-63b941671638",
    "outputId": "8d8ac9e0-372a-4aab-d2b9-43be5dfc6689"
   },
   "outputs": [],
   "source": [
    "# Boxplot för att analysera åldersfördelningen per kön\n",
    "plt.subplot(1, 3, 1)  # Första subplotten\n",
    "sns.boxplot(x=\"Gender\", y=\"Age\", data=data, hue=\"Gender\", palette={\"Male\": \"lightblue\", \"Female\": \"pink\"}, dodge=False)\n",
    "plt.title(\"Boxplot of Age by Gender\")  # Titel för plotten\n",
    "plt.xlabel(\"Gender\")  # Etikett för x-axeln\n",
    "plt.ylabel(\"Age\")  # Etikett för y-axeln\n",
    "plt.legend([], [], frameon=False)  # Dölj legend eftersom färgerna är uppenbara\n",
    "plt.show()"
   ]
  },
  {
   "cell_type": "code",
   "execution_count": null,
   "id": "9cecf0f6-afdd-4065-9c5a-a3cbeb638901",
   "metadata": {
    "colab": {
     "base_uri": "https://localhost:8080/",
     "height": 472
    },
    "id": "9cecf0f6-afdd-4065-9c5a-a3cbeb638901",
    "outputId": "0c06e572-9087-491a-fef2-8d53b301cfcd"
   },
   "outputs": [],
   "source": [
    "# Boxplot för att analysera årlig inkomst per kön\n",
    "plt.subplot(1, 3, 2)  # Andra subplotten\n",
    "sns.boxplot(x=\"Gender\", y=\"Annual Income (10kkr)\", data=data, hue=\"Gender\", palette={\"Male\": \"lightblue\", \"Female\": \"pink\"}, dodge=False)\n",
    "plt.title(\"Boxplot of Annual Income by Gender\")\n",
    "plt.xlabel(\"Gender\")\n",
    "plt.ylabel(\"Annual Income (10kkr)\")\n",
    "plt.legend([], [], frameon=False)\n",
    "plt.show()"
   ]
  },
  {
   "cell_type": "code",
   "execution_count": null,
   "id": "66b0304a-e60c-4663-aa18-8c38744ee7b0",
   "metadata": {
    "colab": {
     "base_uri": "https://localhost:8080/",
     "height": 472
    },
    "id": "66b0304a-e60c-4663-aa18-8c38744ee7b0",
    "outputId": "5dbbe70a-028e-49a3-f64a-8ed5e7cea01f"
   },
   "outputs": [],
   "source": [
    "# Boxplot för att analysera spending score per kön\n",
    "plt.subplot(1, 3, 3)  # Tredje subplotten\n",
    "sns.boxplot(x=\"Gender\", y=\"Spending Score (1-100)\", data=data, hue=\"Gender\", palette={\"Male\": \"lightblue\", \"Female\": \"pink\"}, dodge=False)\n",
    "plt.title(\"Boxplot of Spending Score by Gender\")\n",
    "plt.xlabel(\"Gender\")\n",
    "plt.ylabel(\"Spending Score (1-100)\")\n",
    "plt.legend([], [], frameon=False)\n",
    "plt.show()"
   ]
  },
  {
   "cell_type": "code",
   "execution_count": null,
   "id": "5cbede46-b7b5-4cce-ab73-8ca9e6c82298",
   "metadata": {
    "colab": {
     "base_uri": "https://localhost:8080/"
    },
    "id": "5cbede46-b7b5-4cce-ab73-8ca9e6c82298",
    "outputId": "eb3544fc-a6ab-49c6-dded-ead9977bfd12"
   },
   "outputs": [],
   "source": [
    "# Skapa datapunkter för Age och Spending Score\n",
    "point = data[[\"Age\", \"Spending Score (1-100)\"]].values  # Extrahera endast relevanta kolumner\n",
    "\n",
    "# Separera x- och y-koordinater för scatter plot\n",
    "xCoord = point[:, 0]  # Ålder\n",
    "yCoord = point[:, 1]  # Spending Score\n",
    "\n",
    "# Visa koordinater för kontroll\n",
    "print(xCoord)\n",
    "print(yCoord)"
   ]
  },
  {
   "cell_type": "code",
   "execution_count": null,
   "id": "c3da4217-e85c-4b05-8a64-d7e24dfd57d7",
   "metadata": {
    "colab": {
     "base_uri": "https://localhost:8080/",
     "height": 718
    },
    "id": "c3da4217-e85c-4b05-8a64-d7e24dfd57d7",
    "outputId": "7fd6f17c-ed5d-462d-f3d3-ae979eff8590"
   },
   "outputs": [],
   "source": [
    "# Skapa scatter plot för datapunkterna\n",
    "labels = range(1, len(point) + 1)  # Skapa etiketter för varje punkt\n",
    "plt.figure(figsize=(8, 8))  # Definiera storleken på figuren\n",
    "plt.scatter(xCoord, yCoord, label='True Position')  # Rita scatter plot\n",
    "plt.title(\"Data Points\")  # Titel för plotten\n",
    "plt.xlabel(\"Age\")  # Etikett för x-axeln\n",
    "plt.ylabel(\"Spending Score (1-100)\")  # Etikett för y-axeln\n",
    "plt.show()"
   ]
  },
  {
   "cell_type": "code",
   "execution_count": null,
   "id": "IHG9dBa6bmDf",
   "metadata": {
    "colab": {
     "base_uri": "https://localhost:8080/",
     "height": 487
    },
    "id": "IHG9dBa6bmDf",
    "outputId": "da159f40-8b63-4d56-cc12-e1458d6bcc46"
   },
   "outputs": [],
   "source": [
    "# Elbow-metoden för att hitta optimalt antal kluster\n",
    "def elbow_method(data, max_clusters=10):\n",
    "    inertia = []  # Lista för att lagra inertia-värden\n",
    "    cluster_range = range(1, max_clusters + 1)\n",
    "\n",
    "    for k in cluster_range:\n",
    "        kmeans = KMeans(n_clusters=k, random_state=42)\n",
    "        kmeans.fit(data)\n",
    "        inertia.append(kmeans.inertia_)\n",
    "\n",
    "    # Plot för Elbow-metoden\n",
    "    plt.figure(figsize=(8, 5))\n",
    "    plt.plot(cluster_range, inertia, marker='o')\n",
    "    plt.title('Elbow Method: Optimalt antal Clusters')\n",
    "    plt.xlabel('Antal Clusters')\n",
    "    plt.ylabel('Inertia')\n",
    "    plt.xticks(cluster_range)\n",
    "    plt.grid(True)\n",
    "    plt.show()\n",
    "\n",
    "# Skala data om det behövs och kör Elbow-metoden\n",
    "from sklearn.preprocessing import StandardScaler\n",
    "\n",
    "scaler = StandardScaler()\n",
    "scaled_data = scaler.fit_transform(data[[\"Age\", \"Spending Score (1-100)\"]])  # Justera kolumnerna efter dina behov\n",
    "\n",
    "elbow_method(scaled_data)"
   ]
  },
  {
   "cell_type": "code",
   "execution_count": null,
   "id": "5bff2214-78d4-4c6b-89a0-411ad97b99d6",
   "metadata": {
    "colab": {
     "base_uri": "https://localhost:8080/",
     "height": 805
    },
    "id": "5bff2214-78d4-4c6b-89a0-411ad97b99d6",
    "outputId": "67f17a27-aaa0-4ee5-9776-b8ad2bf5406c"
   },
   "outputs": [],
   "source": [
    "# K-means-klustring för Age och Spending Score\n",
    "k = 4  # Antal kluster\n",
    "kmeans = KMeans(n_clusters=k, random_state=42).fit(point)  # Träna modellen\n",
    "\n",
    "# Hämta centroid-koordinater och klusteretiketter\n",
    "centroids = kmeans.cluster_centers_  # Koordinater för klustermedelvärden\n",
    "labels = kmeans.labels_  # Kluster för varje datapunkt\n",
    "\n",
    "# Visa centroid-koordinater för kontroll\n",
    "print(\"Centroids:\")\n",
    "print(centroids)\n",
    "\n",
    "# Visualisera k-means-klustringen\n",
    "plt.figure(figsize=(8, 8))\n",
    "plt.scatter(point[:, 0], point[:, 1], c=labels.astype(float), s=50, alpha=0.5, cmap=\"viridis\")  # Datapunkter med färg baserat på kluster\n",
    "plt.scatter(centroids[:, 0], centroids[:, 1], c='red', s=200, marker='x', label=\"Centroids\")  # Centroidmarkeringar\n",
    "plt.title(\"K-means Clustering\")  # Titel\n",
    "plt.xlabel(\"Age\")  # Etikett för x-axeln\n",
    "plt.ylabel(\"Spending Score (1-100)\")  # Etikett för y-axeln\n",
    "plt.legend()  # Visa legend\n",
    "plt.show()"
   ]
  },
  {
   "cell_type": "code",
   "execution_count": null,
   "id": "e6ee3872-af4b-4d2a-a159-354902616210",
   "metadata": {
    "colab": {
     "base_uri": "https://localhost:8080/"
    },
    "id": "e6ee3872-af4b-4d2a-a159-354902616210",
    "outputId": "b3ec21a3-d92c-4512-8f98-6d37122dbc36"
   },
   "outputs": [],
   "source": [
    "# K-means-klustring för Annual Income och Spending Score\n",
    "point = data[[\"Annual Income (10kkr)\", \"Spending Score (1-100)\"]].values  # Extrahera relevanta kolumner\n",
    "xCoord = point[:, 0]  # Årlig inkomst\n",
    "yCoord = point[:, 1]  # Spending Score\n",
    "\n",
    "# Visa koordinater för kontroll\n",
    "print(xCoord)\n",
    "print(yCoord)"
   ]
  },
  {
   "cell_type": "code",
   "execution_count": null,
   "id": "f765848f-62ec-4979-b8b4-7b4957a4b057",
   "metadata": {
    "colab": {
     "base_uri": "https://localhost:8080/",
     "height": 718
    },
    "id": "f765848f-62ec-4979-b8b4-7b4957a4b057",
    "outputId": "888d2d39-b18d-4c70-b6b1-3ac1f2e761ac"
   },
   "outputs": [],
   "source": [
    "# Skapa scatter plot för datapunkterna\n",
    "labels = range(1, len(point) + 1)  # Skapa etiketter för varje punkt\n",
    "plt.figure(figsize=(8, 8))\n",
    "plt.scatter(xCoord, yCoord, label='True Position')  # Rita scatter plot\n",
    "plt.title(\"Data Points\")  # Titel\n",
    "plt.xlabel(\"Annual Income (10kkr)\")  # Etikett för x-axeln\n",
    "plt.ylabel(\"Spending Score (1-100)\")  # Etikett för y-axeln\n",
    "plt.show()"
   ]
  },
  {
   "cell_type": "code",
   "execution_count": null,
   "id": "w1Rsi2x_cR25",
   "metadata": {
    "colab": {
     "base_uri": "https://localhost:8080/",
     "height": 487
    },
    "id": "w1Rsi2x_cR25",
    "outputId": "7bdc37ba-0259-4777-b101-57cc855fe728"
   },
   "outputs": [],
   "source": [
    "# Elbow-metoden för att hitta optimalt antal kluster\n",
    "def elbow_method(data, max_clusters=10):\n",
    "    inertia = []  # Lista för att lagra inertia-värden\n",
    "    cluster_range = range(1, max_clusters + 1)\n",
    "\n",
    "    for k in cluster_range:\n",
    "        kmeans = KMeans(n_clusters=k, random_state=42)\n",
    "        kmeans.fit(data)\n",
    "        inertia.append(kmeans.inertia_)\n",
    "\n",
    "    # Plot för Elbow-metoden\n",
    "    plt.figure(figsize=(8, 5))\n",
    "    plt.plot(cluster_range, inertia, marker='o')\n",
    "    plt.title('Elbow Method: Optimalt antal Clusters')\n",
    "    plt.xlabel('Antal Clusters')\n",
    "    plt.ylabel('Inertia')\n",
    "    plt.xticks(cluster_range)\n",
    "    plt.grid(True)\n",
    "    plt.show()\n",
    "\n",
    "# Skala data om det behövs och kör Elbow-metoden\n",
    "from sklearn.preprocessing import StandardScaler\n",
    "\n",
    "scaler = StandardScaler()\n",
    "scaled_data = scaler.fit_transform(data[[\"Spending Score (1-100)\", \"Annual Income (10kkr)\"]])\n",
    "\n",
    "elbow_method(scaled_data)"
   ]
  },
  {
   "cell_type": "code",
   "execution_count": null,
   "id": "d9b41927-8aee-4fce-a42b-393a1296dbf9",
   "metadata": {
    "colab": {
     "base_uri": "https://localhost:8080/",
     "height": 822
    },
    "id": "d9b41927-8aee-4fce-a42b-393a1296dbf9",
    "outputId": "71ea02a5-28b9-434a-a169-b2cfa7b9e862"
   },
   "outputs": [],
   "source": [
    "# K-means-klustring för Annual Income och Spending Score\n",
    "k = 5  # Antal kluster\n",
    "kmeans = KMeans(n_clusters=k, random_state=42).fit(point)  # Träna modellen\n",
    "\n",
    "# Hämta centroid-koordinater och klusteretiketter\n",
    "centroids = kmeans.cluster_centers_\n",
    "labels = kmeans.labels_\n",
    "\n",
    "# Visa centroid-koordinater för kontroll\n",
    "print(\"Centroids:\")\n",
    "print(centroids)\n",
    "\n",
    "# Visualisera k-means-klustringen\n",
    "plt.figure(figsize=(8, 8))\n",
    "plt.scatter(point[:, 0], point[:, 1], c=labels.astype(float), s=50, alpha=0.5, cmap=\"viridis\")  # Datapunkter med färg baserat på kluster\n",
    "plt.scatter(centroids[:, 0], centroids[:, 1], c='red', s=200, marker='x', label=\"Centroids\")  # Centroidmarkeringar\n",
    "plt.title(\"K-means Clustering\")  # Titel\n",
    "plt.xlabel(\"Annual Income (10kkr)\")  # Etikett för x-axeln\n",
    "plt.ylabel(\"Spending Score (1-100)\")  # Etikett för y-axeln\n",
    "plt.legend()  # Visa legend\n",
    "plt.show()"
   ]
  }
 ],
 "metadata": {
  "colab": {
   "provenance": []
  },
  "kernelspec": {
   "display_name": "Python 3 (ipykernel)",
   "language": "python",
   "name": "python3"
  },
  "language_info": {
   "codemirror_mode": {
    "name": "ipython",
    "version": 3
   },
   "file_extension": ".py",
   "mimetype": "text/x-python",
   "name": "python",
   "nbconvert_exporter": "python",
   "pygments_lexer": "ipython3",
   "version": "3.12.7"
  }
 },
 "nbformat": 4,
 "nbformat_minor": 5
}
